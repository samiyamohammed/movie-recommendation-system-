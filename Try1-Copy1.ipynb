{
 "cells": [
  {
   "cell_type": "code",
   "execution_count": 1,
   "id": "71adb73f",
   "metadata": {},
   "outputs": [],
   "source": [
    "import pandas as pd"
   ]
  },
  {
   "cell_type": "markdown",
   "id": "2067b420",
   "metadata": {},
   "source": [
    "importing the data "
   ]
  },
  {
   "cell_type": "code",
   "execution_count": 2,
   "id": "1f51e60b",
   "metadata": {},
   "outputs": [],
   "source": [
    "ratings_df = pd.read_csv('ratings.csv')\n",
    "tags_df = pd.read_csv('tags.csv')\n",
    "movies_df = pd.read_csv('movies.csv')\n",
    "links_df = pd.read_csv('links.csv')"
   ]
  },
  {
   "cell_type": "markdown",
   "id": "b615425e",
   "metadata": {},
   "source": [
    "Display the first 5 rows of each DataFrame"
   ]
  },
  {
   "cell_type": "code",
   "execution_count": 3,
   "id": "505a6d36",
   "metadata": {},
   "outputs": [
    {
     "name": "stdout",
     "output_type": "stream",
     "text": [
      "First 5 rows of ratings_df:\n",
      "| userId   | movieId   | rating   | timestamp   |\n",
      "|:---------|:----------|:---------|:------------|\n",
      "| 1        | 1         | 4        | 9.64983e+08 |\n",
      "| 1        | 3         | 4        | 9.64981e+08 |\n",
      "| 1        | 6         | 4        | 9.64982e+08 |\n",
      "| 1        | 47        | 5        | 9.64984e+08 |\n",
      "| 1        | 50        | 5        | 9.64983e+08 |\n",
      "\n",
      "First 5 rows of tags_df:\n",
      "| userId   | movieId   | tag             | timestamp   |\n",
      "|:---------|:----------|:----------------|:------------|\n",
      "| 2        | 60756     | funny           | 1445714994  |\n",
      "| 2        | 60756     | Highly quotable | 1445714996  |\n",
      "| 2        | 60756     | will ferrell    | 1445714992  |\n",
      "| 2        | 89774     | Boxing story    | 1445715207  |\n",
      "| 2        | 89774     | MMA             | 1445715200  |\n",
      "\n",
      "First 5 rows of movies_df:\n",
      "| movieId   | title                              | genres                                      |\n",
      "|:----------|:-----------------------------------|:--------------------------------------------|\n",
      "| 1         | Toy Story (1995)                   | Adventure|Animation|Children|Comedy|Fantasy |\n",
      "| 2         | Jumanji (1995)                     | Adventure|Children|Fantasy                  |\n",
      "| 3         | Grumpier Old Men (1995)            | Comedy|Romance                              |\n",
      "| 4         | Waiting to Exhale (1995)           | Comedy|Drama|Romance                        |\n",
      "| 5         | Father of the Bride Part II (1995) | Comedy                                      |\n",
      "\n",
      "First 5 rows of links_df:\n",
      "| movieId   | imdbId   | tmdbId   |\n",
      "|:----------|:---------|:---------|\n",
      "| 1         | 114709   | 862      |\n",
      "| 2         | 113497   | 8844     |\n",
      "| 3         | 113228   | 15602    |\n",
      "| 4         | 114885   | 31357    |\n",
      "| 5         | 113041   | 11862    |\n"
     ]
    }
   ],
   "source": [
    "\n",
    "print(\"First 5 rows of ratings_df:\")\n",
    "print(ratings_df.head().to_markdown(index=False, numalign=\"left\", stralign=\"left\"))\n",
    "\n",
    "print(\"\\nFirst 5 rows of tags_df:\")\n",
    "print(tags_df.head().to_markdown(index=False, numalign=\"left\", stralign=\"left\"))\n",
    "\n",
    "print(\"\\nFirst 5 rows of movies_df:\")\n",
    "print(movies_df.head().to_markdown(index=False, numalign=\"left\", stralign=\"left\"))\n",
    "\n",
    "print(\"\\nFirst 5 rows of links_df:\")\n",
    "print(links_df.head().to_markdown(index=False, numalign=\"left\", stralign=\"left\"))"
   ]
  },
  {
   "cell_type": "markdown",
   "id": "fdd677e7",
   "metadata": {},
   "source": [
    "Get information about the columns in each DataFrame"
   ]
  },
  {
   "cell_type": "code",
   "execution_count": 4,
   "id": "29e0f1bd",
   "metadata": {
    "scrolled": false
   },
   "outputs": [
    {
     "name": "stdout",
     "output_type": "stream",
     "text": [
      "\n",
      "ratings_df Information:\n",
      "<class 'pandas.core.frame.DataFrame'>\n",
      "RangeIndex: 100836 entries, 0 to 100835\n",
      "Data columns (total 4 columns):\n",
      " #   Column     Non-Null Count   Dtype  \n",
      "---  ------     --------------   -----  \n",
      " 0   userId     100836 non-null  int64  \n",
      " 1   movieId    100836 non-null  int64  \n",
      " 2   rating     100836 non-null  float64\n",
      " 3   timestamp  100836 non-null  int64  \n",
      "dtypes: float64(1), int64(3)\n",
      "memory usage: 3.1 MB\n",
      "None\n",
      "\n",
      "tags_df Information:\n",
      "<class 'pandas.core.frame.DataFrame'>\n",
      "RangeIndex: 3683 entries, 0 to 3682\n",
      "Data columns (total 4 columns):\n",
      " #   Column     Non-Null Count  Dtype \n",
      "---  ------     --------------  ----- \n",
      " 0   userId     3683 non-null   int64 \n",
      " 1   movieId    3683 non-null   int64 \n",
      " 2   tag        3683 non-null   object\n",
      " 3   timestamp  3683 non-null   int64 \n",
      "dtypes: int64(3), object(1)\n",
      "memory usage: 115.2+ KB\n",
      "None\n",
      "\n",
      "movies_df Information:\n",
      "<class 'pandas.core.frame.DataFrame'>\n",
      "RangeIndex: 9742 entries, 0 to 9741\n",
      "Data columns (total 3 columns):\n",
      " #   Column   Non-Null Count  Dtype \n",
      "---  ------   --------------  ----- \n",
      " 0   movieId  9742 non-null   int64 \n",
      " 1   title    9742 non-null   object\n",
      " 2   genres   9742 non-null   object\n",
      "dtypes: int64(1), object(2)\n",
      "memory usage: 228.5+ KB\n",
      "None\n",
      "\n",
      "links_df Information:\n",
      "<class 'pandas.core.frame.DataFrame'>\n",
      "RangeIndex: 9742 entries, 0 to 9741\n",
      "Data columns (total 3 columns):\n",
      " #   Column   Non-Null Count  Dtype  \n",
      "---  ------   --------------  -----  \n",
      " 0   movieId  9742 non-null   int64  \n",
      " 1   imdbId   9742 non-null   int64  \n",
      " 2   tmdbId   9734 non-null   float64\n",
      "dtypes: float64(1), int64(2)\n",
      "memory usage: 228.5 KB\n",
      "None\n"
     ]
    }
   ],
   "source": [
    "print(\"\\nratings_df Information:\")\n",
    "print(ratings_df.info())\n",
    "\n",
    "print(\"\\ntags_df Information:\")\n",
    "print(tags_df.info())\n",
    "\n",
    "print(\"\\nmovies_df Information:\")\n",
    "print(movies_df.info())\n",
    "\n",
    "print(\"\\nlinks_df Information:\")\n",
    "print(links_df.info())"
   ]
  },
  {
   "cell_type": "markdown",
   "id": "eaf18977",
   "metadata": {},
   "source": [
    "Check for duplicates in each DataFrame"
   ]
  },
  {
   "cell_type": "code",
   "execution_count": 5,
   "id": "46a1343b",
   "metadata": {},
   "outputs": [
    {
     "name": "stdout",
     "output_type": "stream",
     "text": [
      "\n",
      "Number of duplicate rows in ratings_df: 0\n",
      "Number of duplicate rows in tags_df: 0\n",
      "Number of duplicate rows in movies_df: 0\n",
      "Number of duplicate rows in links_df: 0\n"
     ]
    }
   ],
   "source": [
    "print(\"\\nNumber of duplicate rows in ratings_df:\", ratings_df.duplicated().sum())\n",
    "print(\"Number of duplicate rows in tags_df:\", tags_df.duplicated().sum())\n",
    "print(\"Number of duplicate rows in movies_df:\", movies_df.duplicated().sum())\n",
    "print(\"Number of duplicate rows in links_df:\", links_df.duplicated().sum())"
   ]
  },
  {
   "cell_type": "markdown",
   "id": "7ea5c4cc",
   "metadata": {},
   "source": [
    "according to the above information in the links.csv the tmdbId column has 8 missing values , In tags.csv, the timestamp column is currently of type int64, but it would be more suitable as a datetime type for further analysis. So next we will be doing exactly that.\n"
   ]
  },
  {
   "cell_type": "code",
   "execution_count": 6,
   "id": "fbe20a19",
   "metadata": {},
   "outputs": [],
   "source": [
    "import numpy as np"
   ]
  },
  {
   "cell_type": "markdown",
   "id": "8fa2bb96",
   "metadata": {},
   "source": [
    "Drop rows with missing values in `tmdbId`\n"
   ]
  },
  {
   "cell_type": "code",
   "execution_count": 7,
   "id": "c74a0927",
   "metadata": {},
   "outputs": [],
   "source": [
    "links_df.dropna(subset=['tmdbId'], inplace=True)"
   ]
  },
  {
   "cell_type": "markdown",
   "id": "c27500aa",
   "metadata": {},
   "source": [
    "Convert `timestamp` columns to datetime\n"
   ]
  },
  {
   "cell_type": "code",
   "execution_count": 8,
   "id": "cbb0f8e5",
   "metadata": {},
   "outputs": [],
   "source": [
    "ratings_df['timestamp'] = pd.to_datetime(ratings_df['timestamp'], unit='s')\n",
    "tags_df['timestamp'] = pd.to_datetime(tags_df['timestamp'], unit='s')"
   ]
  },
  {
   "cell_type": "markdown",
   "id": "ebb10b9c",
   "metadata": {},
   "source": [
    "We will process the genres column in the movies_df DataFrame. Since the genres are pipe-separated, we'll split them into individual genres (eg . e.g., \"Action|Adventure\" into \"Action\", \"Adventure\") and create a new DataFrame where each row represents a movie and a single genre associated with it."
   ]
  },
  {
   "cell_type": "code",
   "execution_count": 9,
   "id": "3a64f928",
   "metadata": {},
   "outputs": [
    {
     "name": "stdout",
     "output_type": "stream",
     "text": [
      "| movieId   | title                              | genre     |\n",
      "|:----------|:-----------------------------------|:----------|\n",
      "| 1         | Toy Story (1995)                   | Adventure |\n",
      "| 1         | Toy Story (1995)                   | Children  |\n",
      "| 1         | Toy Story (1995)                   | Fantasy   |\n",
      "| 2         | Jumanji (1995)                     | Comedy    |\n",
      "| 2         | Jumanji (1995)                     | Romance   |\n",
      "| 3         | Grumpier Old Men (1995)            | Comedy    |\n",
      "| 3         | Grumpier Old Men (1995)            | Drama     |\n",
      "| 3         | Grumpier Old Men (1995)            | Romance   |\n",
      "| 4         | Waiting to Exhale (1995)           | Comedy    |\n",
      "| 5         | Father of the Bride Part II (1995) | Action    |\n"
     ]
    }
   ],
   "source": [
    "# Split genres into separate columns\n",
    "split_genres_df = movies_df['genres'].str.split('|', expand=True)\n",
    "\n",
    "# Stack the columns to create a Series of genres\n",
    "stacked_genres = split_genres_df.stack()\n",
    "\n",
    "# Reset index and rename columns\n",
    "stacked_genres_df = stacked_genres.reset_index()\n",
    "stacked_genres_df.columns = ['movieId', 'genre_index', 'genre']\n",
    "\n",
    "# Merge with movies_df to get titles\n",
    "movies_with_genres_df = pd.merge(movies_df[['movieId', 'title']], stacked_genres_df, on='movieId')\n",
    "\n",
    "# Drop the unnecessary column 'genre_index'\n",
    "movies_with_genres_df = movies_with_genres_df.drop('genre_index', axis=1)\n",
    "\n",
    "# Display the first 10 rows\n",
    "print(movies_with_genres_df.head(10).to_markdown(index=False, numalign=\"left\", stralign=\"left\"))"
   ]
  },
  {
   "cell_type": "markdown",
   "id": "df5c7973",
   "metadata": {},
   "source": [
    "Build the Recommendation Engines\n",
    "\n",
    "A. For Registered Users (Collaborative Filtering)"
   ]
  },
  {
   "cell_type": "markdown",
   "id": "21e4d18a",
   "metadata": {},
   "source": []
  },
  {
   "cell_type": "code",
   "execution_count": 10,
   "id": "1c4ede87",
   "metadata": {},
   "outputs": [],
   "source": [
    "from sklearn.decomposition import TruncatedSVD\n",
    "\n",
    "# Aggregate ratings by userId and movieId, compute mean rating, and create pivot table\n",
    "ratings_pivot = ratings_df.groupby(['userId', 'movieId'])['rating'].mean().reset_index().pivot(index='userId', columns='movieId', values='rating').fillna(0)\n",
    "\n",
    "# Create ratings matrix\n",
    "ratings_matrix = ratings_pivot.values\n",
    "\n",
    "# Apply Truncated SVD for matrix factorization\n",
    "svd = TruncatedSVD(n_components=50)\n",
    "user_factors = svd.fit_transform(ratings_matrix)\n",
    "movie_factors = svd.components_\n",
    "\n",
    "# Predict ratings for all user-movie pairs\n",
    "predicted_ratings = user_factors.dot(movie_factors)"
   ]
  },
  {
   "cell_type": "code",
   "execution_count": 11,
   "id": "10ab98c8",
   "metadata": {},
   "outputs": [],
   "source": [
    "def get_movie_recommendations(user_id, movies_with_genres_df, N=10):\n",
    "\n",
    "    user_idx = ratings_pivot.index.get_loc(user_id)\n",
    "    unrated_movies = ratings_pivot.loc[user_id][ratings_pivot.loc[user_id] == 0].index - 1\n",
    "    valid_unrated_movies = list(set(unrated_movies).intersection(set(range(len(predicted_ratings[user_idx])))))\n",
    "    predicted_ratings_for_user = predicted_ratings[user_idx][valid_unrated_movies]\n",
    "    top_movie_indices = predicted_ratings_for_user.argsort()[::-1][:N]\n",
    "    recommended_movie_ids = [valid_unrated_movies[i] + 1 for i in top_movie_indices]\n",
    "\n",
    "    # Create DataFrame of recommendations\n",
    "    recommendations_df = pd.DataFrame({'movieId': recommended_movie_ids,\n",
    "                                       'predicted_rating': [predicted_ratings_for_user[i] for i in top_movie_indices]})\n",
    "\n",
    "    # Merge with movies_df to get titles and genres\n",
    "    recommendations_df = pd.merge(recommendations_df, movies_df[['movieId', 'title']], on='movieId')\n",
    "\n",
    "    # Group by movieId and predicted_rating, aggregate genres\n",
    "    recommendations_df = recommendations_df.groupby(['movieId', 'predicted_rating'])['title'].apply(lambda x: '|'.join(x)).reset_index()\n",
    "\n",
    "    # Merge again with movies_df to get all genres for each movie\n",
    "    recommendations_df = pd.merge(recommendations_df, movies_df[['movieId', 'genres']], on='movieId')\n",
    "\n",
    "    # Sort by predicted rating\n",
    "    recommendations_df = recommendations_df.sort_values(by='predicted_rating', ascending=False)\n",
    "\n",
    "    return recommendations_df\n",
    "\n"
   ]
  },
  {
   "cell_type": "code",
   "execution_count": null,
   "id": "2b8858f7",
   "metadata": {},
   "outputs": [],
   "source": [
    "\n",
    "user_id = 166\n",
    "recommendations = get_movie_recommendations(user_id, movies_with_genres_df)\n",
    "print(f\"\\nRecommendations for User {user_id}:\\n\")\n",
    "print(recommendations[['movieId', 'title', 'genres', 'predicted_rating']].round(2).to_markdown(index=False, numalign=\"left\", stralign=\"left\"))"
   ]
  },
  {
   "cell_type": "markdown",
   "id": "f1b2a7d3",
   "metadata": {},
   "source": [
    "the next lines of code are  primarily focused on training a Singular Value Decomposition (SVD) model on movie rating data, evaluating its performance using Root Mean Square Error (RMSE), and preparing predicted ratings for later use in a recommendation system."
   ]
  },
  {
   "cell_type": "code",
   "execution_count": 13,
   "id": "0d53da47",
   "metadata": {},
   "outputs": [],
   "source": [
    "import pandas as pd\n",
    "from sklearn.model_selection import train_test_split\n",
    "from sklearn.decomposition import TruncatedSVD\n",
    "from sklearn.metrics import mean_squared_error\n",
    "import numpy as np"
   ]
  },
  {
   "cell_type": "code",
   "execution_count": 14,
   "id": "32e8cea1",
   "metadata": {},
   "outputs": [],
   "source": [
    "\n",
    "# Data Splitting and Preparation\n",
    "\n",
    "train_ratings, test_ratings = train_test_split(ratings_df, test_size=0.2, stratify=ratings_df['userId'], random_state=42)\n",
    "\n",
    "train_pivot = train_ratings.groupby(['userId', 'movieId'])['rating'].mean().reset_index().pivot(index='userId', columns='movieId', values='rating').fillna(0)\n",
    "test_pivot = test_ratings.groupby(['userId', 'movieId'])['rating'].mean().reset_index().pivot(index='userId', columns='movieId', values='rating').fillna(0)\n",
    "\n",
    "common_movie_ids = train_pivot.columns.intersection(test_pivot.columns)\n",
    "train_pivot_filtered = train_pivot[common_movie_ids]\n",
    "test_pivot_filtered = test_pivot[common_movie_ids]\n",
    "\n",
    "# Re-create train and test matrices\n",
    "train_matrix_filtered = train_pivot_filtered.values\n",
    "test_matrix_filtered = test_pivot_filtered.values\n"
   ]
  },
  {
   "cell_type": "code",
   "execution_count": 15,
   "id": "c142c013",
   "metadata": {},
   "outputs": [],
   "source": [
    "# SVD Model Training and Prediction \n",
    "svd = TruncatedSVD(n_components=50)\n",
    "svd.fit(train_matrix_filtered)\n",
    "\n",
    "# Predict ratings on filtered test data\n",
    "predicted_ratings = svd.transform(test_matrix_filtered) @ svd.components_\n",
    "\n",
    "predicted_ratings_reshaped = predicted_ratings.reshape(test_pivot_filtered.shape)\n"
   ]
  },
  {
   "cell_type": "code",
   "execution_count": 16,
   "id": "ab5855e6",
   "metadata": {},
   "outputs": [],
   "source": [
    "# Data Formatting for Evaluation\n",
    "\n",
    "test_df = test_pivot_filtered.stack().reset_index()\n",
    "test_df.columns = ['userId', 'movieId', 'rating']\n",
    "\n",
    "user_ids = []\n",
    "movie_ids = []\n",
    "predicted_ratings = []\n",
    "\n",
    "# Iterate over rows and columns of test_pivot_filtered\n",
    "for user_idx, user_id in enumerate(test_pivot_filtered.index):\n",
    "    for movie_idx, movie_id in enumerate(test_pivot_filtered.columns):\n",
    "        user_ids.append(user_id)\n",
    "        movie_ids.append(movie_id)\n",
    "        predicted_ratings.append(predicted_ratings_reshaped[user_idx, movie_idx])\n",
    "\n",
    "# Create DataFrame for predicted ratings\n",
    "predictions_df = pd.DataFrame({'userId': user_ids, 'movieId': movie_ids, 'predicted_rating': predicted_ratings})\n",
    "\n",
    "# Merge test and predicted ratings\n",
    "merged_df = pd.merge(test_df, predictions_df, on=['userId', 'movieId'])"
   ]
  },
  {
   "cell_type": "code",
   "execution_count": 17,
   "id": "a7a37982",
   "metadata": {},
   "outputs": [
    {
     "name": "stdout",
     "output_type": "stream",
     "text": [
      "RMSE: 0.2927\n"
     ]
    }
   ],
   "source": [
    "\n",
    "# Calculate RMSE\n",
    "rmse = np.sqrt(mean_squared_error(merged_df['rating'], merged_df['predicted_rating']))\n",
    "print(f\"RMSE: {rmse:.4f}\")\n",
    "\n"
   ]
  },
  {
   "cell_type": "markdown",
   "id": "b04f1f26",
   "metadata": {},
   "source": [
    "The RMSE of the SVD model on the test set is 0.2927. This indicates that, on average, the model's predictions are about 0.29 units away from the actual user ratings. Given that the ratings are on a scale of 1 to 5, this RMSE suggests that the model is performing quite well."
   ]
  },
  {
   "cell_type": "markdown",
   "id": "b3891de6",
   "metadata": {},
   "source": [
    "B. For New Users (content-based filtering)"
   ]
  },
  {
   "cell_type": "code",
   "execution_count": 18,
   "id": "ee7354ed",
   "metadata": {},
   "outputs": [],
   "source": [
    "def get_user_genre_preferences():\n",
    "    \"\"\"\n",
    "    Interactively gets genre preferences from the user.\n",
    "\n",
    "    Returns:\n",
    "        A list of selected genre names.\n",
    "    \"\"\"\n",
    "\n",
    "    print(\"Please select your preferred genres (type 'done' when finished):\")\n",
    "    all_genres = movies_with_genres_df['genre'].unique()\n",
    "    for i, genre in enumerate(all_genres):\n",
    "        print(f\"{i+1}. {genre}\")\n",
    "\n",
    "    selected_genres = []\n",
    "    while True:\n",
    "        choice = input(\"Enter genre number or 'done': \")\n",
    "        if choice.lower() == 'done':\n",
    "            break\n",
    "        try:\n",
    "            genre_index = int(choice) - 1\n",
    "            if 0 <= genre_index < len(all_genres):\n",
    "                selected_genres.append(all_genres[genre_index-1])\n",
    "            else:\n",
    "                print(\"Invalid genre number.\")\n",
    "        except ValueError:\n",
    "            print(\"Invalid input.\")\n",
    "\n",
    "    return selected_genres"
   ]
  },
  {
   "cell_type": "code",
   "execution_count": 19,
   "id": "a77a6ce6",
   "metadata": {},
   "outputs": [],
   "source": [
    "def get_movie_recommendations_for_new_user(selected_genres, movies_with_genres_df, N=10):\n",
    "    \"\"\"\n",
    "    Generates movie recommendations for a new user based on their genre preferences.\n",
    "\n",
    "    Args:\n",
    "        selected_genres: A list of genres preferred by the new user.\n",
    "        movies_with_genres_df: DataFrame containing movieId, title, and genre information.\n",
    "        N: The number of recommendations to return (default is 10).\n",
    "\n",
    "    Returns:\n",
    "        A DataFrame with columns movieId, title, genres, and average_rating.\n",
    "    \"\"\"\n",
    "\n",
    "    # Filter movies by selected genres\n",
    "    filtered_movies = movies_with_genres_df[movies_with_genres_df['genre'].isin(selected_genres)]\n",
    "\n",
    "    # Aggregate ratings for filtered movies (Corrected line)\n",
    "    filtered_ratings = pd.merge(filtered_movies, ratings_df, on='movieId')  # Merge before grouping\n",
    "    average_ratings = filtered_ratings.groupby('movieId')['rating'].mean()\n",
    "\n",
    "    # Get top N movies based on average ratings\n",
    "    top_movies = average_ratings.sort_values(ascending=False).head(N)\n",
    "\n",
    "    # Create DataFrame of recommendations\n",
    "    recommendations_df = pd.DataFrame({'movieId': top_movies.index, 'average_rating': top_movies.values})\n",
    "\n",
    "    # Merge with movies_df to get titles and genres\n",
    "    recommendations_df = pd.merge(recommendations_df, movies_df[['movieId', 'title', 'genres']], on='movieId')\n",
    "\n",
    "    return recommendations_df"
   ]
  },
  {
   "cell_type": "code",
   "execution_count": null,
   "id": "16b02d0a",
   "metadata": {},
   "outputs": [],
   "source": [
    "while True:\n",
    "    user_input = input(\"Enter user ID (or 'new' for a new user): \")\n",
    "    if user_input.lower() == 'new':\n",
    "        selected_genres = get_user_genre_preferences()\n",
    "        recommendations = get_movie_recommendations_for_new_user(selected_genres, movies_with_genres_df)\n",
    "        print(\"\\nMovie recommendations for you:\\n\")\n",
    "    else:\n",
    "        try:\n",
    "            user_id = int(user_input)\n",
    "            if user_id in ratings_pivot.index:\n",
    "                recommendations = get_movie_recommendations(user_id, movies_with_genres_df)\n",
    "                print(f\"\\nRecommendations for User {user_id}:\\n\")\n",
    "            else:\n",
    "                print(\"Invalid user ID.\")\n",
    "                continue  # Ask for input again\n",
    "        except ValueError:\n",
    "            print(\"Invalid input.\")\n",
    "            continue\n",
    "    \n",
    "    #Display the recommendations\n",
    "    print(recommendations[['movieId', 'title', 'genres', 'predicted_rating' if 'predicted_rating' in recommendations.columns else 'average_rating']].round(2).to_markdown(index=False, numalign=\"left\", stralign=\"left\"))\n",
    "\n",
    "    another_recommendation = input(\"Do you want another recommendation? (yes/no): \")\n",
    "    if another_recommendation.lower() != 'yes':\n",
    "        break"
   ]
  },
  {
   "cell_type": "code",
   "execution_count": null,
   "id": "ec344a97",
   "metadata": {},
   "outputs": [],
   "source": []
  }
 ],
 "metadata": {
  "kernelspec": {
   "display_name": "Python 3 (ipykernel)",
   "language": "python",
   "name": "python3"
  },
  "language_info": {
   "codemirror_mode": {
    "name": "ipython",
    "version": 3
   },
   "file_extension": ".py",
   "mimetype": "text/x-python",
   "name": "python",
   "nbconvert_exporter": "python",
   "pygments_lexer": "ipython3",
   "version": "3.11.4"
  }
 },
 "nbformat": 4,
 "nbformat_minor": 5
}
